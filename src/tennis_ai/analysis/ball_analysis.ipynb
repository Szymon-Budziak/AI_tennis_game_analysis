{
 "cells": [
  {
   "cell_type": "code",
   "id": "initial_id",
   "metadata": {
    "collapsed": true,
    "ExecuteTime": {
     "end_time": "2024-04-30T20:54:22.491768Z",
     "start_time": "2024-04-30T20:54:22.489262Z"
    }
   },
   "source": [
    "import pickle\n",
    "import pandas as pd\n",
    "import matplotlib.pyplot as plt"
   ],
   "outputs": [],
   "execution_count": 18
  },
  {
   "metadata": {
    "ExecuteTime": {
     "end_time": "2024-04-30T20:54:25.196424Z",
     "start_time": "2024-04-30T20:54:25.192878Z"
    }
   },
   "cell_type": "code",
   "source": [
    "# read the pickle file\n",
    "with open('../tracker_stubs/ball_detections.pkl', 'rb') as f:\n",
    "    ball_positions = pickle.load(f)"
   ],
   "id": "24faa004ea2724a5",
   "outputs": [],
   "execution_count": 19
  },
  {
   "metadata": {},
   "cell_type": "code",
   "source": [
    "ball_positions = [x.get(1, []) for x in ball_positions]\n",
    "df_ball_positions = pd.DataFrame(ball_positions, columns=['x1', 'y1', 'x2', 'y2'])\n",
    "df_ball_positions = df_ball_positions.interpolate()\n",
    "df_ball_positions = df_ball_positions.bfill()"
   ],
   "id": "aa19dbe0b7dd045",
   "outputs": [],
   "execution_count": null
  },
  {
   "metadata": {},
   "cell_type": "code",
   "source": "df_ball_positions.head()",
   "id": "74f60d45ffbe86de",
   "outputs": [],
   "execution_count": null
  },
  {
   "metadata": {},
   "cell_type": "code",
   "source": [
    "df_ball_positions['mid_y'] = (df_ball_positions['y1'] + df_ball_positions['y2']) / 2  # center of the ball\n",
    "df_ball_positions['mid_y_rolling_mean'] = df_ball_positions['mid_y'].rolling(\n",
    "    window=5, min_periods=1, center=False).mean()  # rolling mean of the center of the ball"
   ],
   "id": "75c26199104e7db4",
   "outputs": [],
   "execution_count": null
  },
  {
   "metadata": {},
   "cell_type": "code",
   "source": [
    "# plot mid_y_rolling_mean\n",
    "df_ball_positions['mid_y_rolling_mean'].plot()"
   ],
   "id": "e8c08d484366975a",
   "outputs": [],
   "execution_count": null
  },
  {
   "metadata": {},
   "cell_type": "code",
   "source": "df_ball_positions['delta_y'] = df_ball_positions['mid_y_rolling_mean'].diff()  # this will subtract 2 consecutive values",
   "id": "7a8cab992d31369c",
   "outputs": [],
   "execution_count": null
  },
  {
   "metadata": {},
   "cell_type": "code",
   "source": "df_ball_positions['delta_y'].plot()",
   "id": "56c6fbe867a42f87",
   "outputs": [],
   "execution_count": null
  },
  {
   "metadata": {},
   "cell_type": "code",
   "source": [
    "df_ball_positions['ball_hit'] = 0\n",
    "\n",
    "minimum_change_frames_for_hit = 25  # minimum number of frames for a hit to be interpreted as a hit\n",
    "for i in range(1, len(df_ball_positions) - int(minimum_change_frames_for_hit * 1.2)):\n",
    "    negative_position_change = df_ball_positions['delta_y'].iloc[i] > 0 and df_ball_positions['delta_y'].iloc[i + 1] < 0\n",
    "    positive_position_change = df_ball_positions['delta_y'].iloc[i] < 0 and df_ball_positions['delta_y'].iloc[i + 1] > 0\n",
    "\n",
    "    if negative_position_change or positive_position_change:\n",
    "        change_count = 0\n",
    "        for change_frame in range(i + 1, i + int(minimum_change_frames_for_hit * 1.2) + 1):\n",
    "            negative_position_change_following_frame = df_ball_positions['delta_y'].iloc[i] > 0 and \\\n",
    "                                                       df_ball_positions['delta_y'].iloc[change_frame] < 0\n",
    "            positive_position_change_following_frame = df_ball_positions['delta_y'].iloc[i] < 0 and \\\n",
    "                                                       df_ball_positions['delta_y'].iloc[change_frame] > 0\n",
    "\n",
    "            if negative_position_change and negative_position_change_following_frame:\n",
    "                change_count += 1\n",
    "            elif positive_position_change and positive_position_change_following_frame:\n",
    "                change_count += 1\n",
    "\n",
    "        if change_count > minimum_change_frames_for_hit - 1:\n",
    "            df_ball_positions['ball_hit'].iloc[i] = 1\n",
    "\n",
    "frame_nums_with_ball_hits = df_ball_positions[df_ball_positions['ball_hit'] == 1].index.tolist()"
   ],
   "id": "10252beef07ae44",
   "outputs": [],
   "execution_count": null
  },
  {
   "metadata": {},
   "cell_type": "code",
   "source": "df_ball_positions.head()",
   "id": "b0500c89b774aa76",
   "outputs": [],
   "execution_count": null
  },
  {
   "metadata": {},
   "cell_type": "code",
   "source": "df_ball_positions[df_ball_positions['ball_hit'] == 1]",
   "id": "94e90ff249ccec6c",
   "outputs": [],
   "execution_count": null
  },
  {
   "metadata": {},
   "cell_type": "code",
   "source": [
    "frame_nums_with_ball_hits = df_ball_positions[df_ball_positions['ball_hit'] == 1].index.tolist()\n",
    "frame_nums_witl_ball_hits"
   ],
   "id": "ef59c5bee4d581b0",
   "outputs": [],
   "execution_count": null
  },
  {
   "metadata": {},
   "cell_type": "code",
   "source": "",
   "id": "260589b51a521bae",
   "outputs": [],
   "execution_count": null
  }
 ],
 "metadata": {
  "kernelspec": {
   "display_name": "Python 3",
   "language": "python",
   "name": "python3"
  },
  "language_info": {
   "codemirror_mode": {
    "name": "ipython",
    "version": 2
   },
   "file_extension": ".py",
   "mimetype": "text/x-python",
   "name": "python",
   "nbconvert_exporter": "python",
   "pygments_lexer": "ipython2",
   "version": "2.7.6"
  }
 },
 "nbformat": 4,
 "nbformat_minor": 5
}
